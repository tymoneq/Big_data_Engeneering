{
 "cells": [
  {
   "cell_type": "code",
   "execution_count": 9,
   "id": "50c7febb",
   "metadata": {},
   "outputs": [],
   "source": [
    "import logging\n",
    "\n",
    "# #\n",
    "# logging.basicConfig(level=logging.DEBUG)\n",
    "\n",
    "# #log messages\n",
    "# logging.debug(\"This is a debug message\")\n",
    "# logging.info(\"This is an info message\")\n",
    "# logging.warning(\"This is a warning message\")\n",
    "# logging.error(\"This is an error message\")\n",
    "# logging.critical(\"This is a critical message\")\n"
   ]
  },
  {
   "cell_type": "code",
   "execution_count": 10,
   "id": "639dfc5d",
   "metadata": {},
   "outputs": [
    {
     "name": "stderr",
     "output_type": "stream",
     "text": [
      "DEBUG:root:This is a debug message\n",
      "INFO:root:This is an info message\n",
      "WARNING:root:This is a warning message\n",
      "ERROR:root:This is an error message\n",
      "CRITICAL:root:This is a critical message\n"
     ]
    }
   ],
   "source": [
    "logging.basicConfig(\n",
    "    filename=\"app.log\",\n",
    "    filemode=\"w\",  # 'w' to overwrite, 'a' to append\n",
    "    level=logging.DEBUG,\n",
    "    format=\"%(asctime)s-%(levelname)s-%(message)s\",\n",
    "    datefmt=\"%Y-%m-%d %H:%M:%S\",\n",
    ")\n",
    "\n",
    "# log messages with timestamp and level\n",
    "logging.debug(\"This is a debug message\")\n",
    "logging.info(\"This is an info message\")\n",
    "logging.warning(\"This is a warning message\")\n",
    "logging.error(\"This is an error message\")\n",
    "logging.critical(\"This is a critical message\")"
   ]
  },
  {
   "cell_type": "code",
   "execution_count": 11,
   "id": "c537681c",
   "metadata": {},
   "outputs": [],
   "source": [
    "logger1 = logging.getLogger(\"module1\")\n",
    "logger1.setLevel(logging.DEBUG)\n",
    "\n",
    "\n",
    "logger2 = logging.getLogger(\"module2\")\n",
    "logger2.setLevel(logging.WARNING)"
   ]
  },
  {
   "cell_type": "code",
   "execution_count": 12,
   "id": "f6a8646f",
   "metadata": {},
   "outputs": [
    {
     "name": "stderr",
     "output_type": "stream",
     "text": [
      "DEBUG:module1:This is a debug message from module1\n",
      "INFO:module1:This is an info message from module1\n",
      "WARNING:module2:This is a warning message from module2\n",
      "ERROR:module2:This is an error message from module2\n"
     ]
    }
   ],
   "source": [
    "logger1.debug(\"This is a debug message from module1\")\n",
    "logger1.info(\"This is an info message from module1\")\n",
    "\n",
    "logger2.warning(\"This is a warning message from module2\")\n",
    "logger2.error(\"This is an error message from module2\")"
   ]
  }
 ],
 "metadata": {
  "kernelspec": {
   "display_name": ".venv",
   "language": "python",
   "name": "python3"
  },
  "language_info": {
   "codemirror_mode": {
    "name": "ipython",
    "version": 3
   },
   "file_extension": ".py",
   "mimetype": "text/x-python",
   "name": "python",
   "nbconvert_exporter": "python",
   "pygments_lexer": "ipython3",
   "version": "3.12.11"
  }
 },
 "nbformat": 4,
 "nbformat_minor": 5
}
