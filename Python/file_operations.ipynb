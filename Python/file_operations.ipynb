{
 "cells": [
  {
   "cell_type": "code",
   "execution_count": 10,
   "id": "b7b8605a",
   "metadata": {},
   "outputs": [
    {
     "name": "stdout",
     "output_type": "stream",
     "text": [
      "Hello, World!\n",
      "I'm learning Python file handling.\n",
      "\n",
      "Hello, World!\n",
      "I'm learning Python file handling.\n"
     ]
    }
   ],
   "source": [
    "with open('example.txt', 'w') as f:\n",
    "    f.write('Hello, World!\\nI\\'m learning Python file handling.\\n')\n",
    "\n",
    "\n",
    "with open('example.txt', 'r') as f:\n",
    "    content = f.read()\n",
    "    print(content)\n",
    "    \n",
    "    \n",
    "with open('example.txt', 'r') as f:    \n",
    "    for line in f:\n",
    "        print(line.strip()) # Using strip() to remove trailing newline characters\n"
   ]
  },
  {
   "cell_type": "code",
   "execution_count": 11,
   "id": "7d08b7cb",
   "metadata": {},
   "outputs": [
    {
     "name": "stdout",
     "output_type": "stream",
     "text": [
      "Hello, World!\n",
      "I'm learning Python file handling.\n",
      "Appending a new line to the file.\n",
      "\n"
     ]
    }
   ],
   "source": [
    "with open('example.txt', 'a') as f:\n",
    "    f.write('Appending a new line to the file.\\n')\n",
    "\n",
    "with open('example.txt', 'r') as f:\n",
    "    content = f.read()\n",
    "    print(content)  # Display the updated content of the file"
   ]
  },
  {
   "cell_type": "code",
   "execution_count": 12,
   "id": "41278949",
   "metadata": {},
   "outputs": [
    {
     "name": "stdout",
     "output_type": "stream",
     "text": [
      "Hello, World!\n",
      "I'm learning Python file handling.\n",
      "Appending a new line to the file.\n",
      "This is the first line.\n",
      "This is the second line.\n",
      "This is the third line.\n",
      "\n"
     ]
    }
   ],
   "source": [
    "lines = [\"This is the first line.\\n\",\n",
    "         \"This is the second line.\\n\",\n",
    "         \"This is the third line.\\n\"]\n",
    "with open('example.txt', 'a') as f:\n",
    "    f.writelines(lines)\n",
    "\n",
    "with open('example.txt', 'r') as f:\n",
    "    content = f.read()\n",
    "    print(content)  # Display the content after writing multiple lines"
   ]
  },
  {
   "cell_type": "code",
   "execution_count": 13,
   "id": "9af4fbe2",
   "metadata": {},
   "outputs": [
    {
     "name": "stdout",
     "output_type": "stream",
     "text": [
      "[0, 1, 2, 3, 4, 5, 6, 7, 8, 9]\n"
     ]
    }
   ],
   "source": [
    "#binary file handling\n",
    "with open('example.bin', 'wb') as f:\n",
    "    f.write(b'\\x00\\x01\\x02\\x03\\x04\\x05\\x06\\x07\\x08\\x09')\n",
    "    \n",
    "    \n",
    "with open('example.bin', 'rb') as f:\n",
    "    binary_content = f.read()\n",
    "    print(list(binary_content))  # Display the binary content as a list of integers"
   ]
  },
  {
   "cell_type": "code",
   "execution_count": 14,
   "id": "4ca4ff24",
   "metadata": {},
   "outputs": [],
   "source": [
    "with open('example.txt', 'r') as f:\n",
    "    content = f.read()\n",
    "    \n",
    "    \n",
    "with open('destination.txt', 'w') as f:\n",
    "    f.write(content)    "
   ]
  },
  {
   "cell_type": "code",
   "execution_count": 15,
   "id": "64b73e29",
   "metadata": {},
   "outputs": [
    {
     "name": "stdout",
     "output_type": "stream",
     "text": [
      "Hello, World!\n",
      "I'm learning Python file handling.\n",
      "\n"
     ]
    }
   ],
   "source": [
    "with open('example.txt', 'w+') as f:\n",
    "    f.write('Hello, World!\\nI\\'m learning Python file handling.\\n')\n",
    "    f.seek(0)\n",
    "    content = f.read()\n",
    "    print(content)\n"
   ]
  },
  {
   "cell_type": "code",
   "execution_count": null,
   "id": "30f833f2",
   "metadata": {},
   "outputs": [
    {
     "ename": "FileExistsError",
     "evalue": "[Errno 17] File exists: 'new_folder'",
     "output_type": "error",
     "traceback": [
      "\u001b[31m---------------------------------------------------------------------------\u001b[39m",
      "\u001b[31mFileExistsError\u001b[39m                           Traceback (most recent call last)",
      "\u001b[36mCell\u001b[39m\u001b[36m \u001b[39m\u001b[32mIn[18]\u001b[39m\u001b[32m, line 5\u001b[39m\n\u001b[32m      1\u001b[39m new_directory = \u001b[33m'\u001b[39m\u001b[33mnew_folder\u001b[39m\u001b[33m'\u001b[39m\n\u001b[32m      4\u001b[39m \u001b[38;5;28;01mimport\u001b[39;00m\u001b[38;5;250m \u001b[39m\u001b[34;01mos\u001b[39;00m\n\u001b[32m----> \u001b[39m\u001b[32m5\u001b[39m \u001b[43mos\u001b[49m\u001b[43m.\u001b[49m\u001b[43mmakedirs\u001b[49m\u001b[43m(\u001b[49m\u001b[43mnew_directory\u001b[49m\u001b[43m)\u001b[49m\n\u001b[32m      8\u001b[39m items = os.listdir(\u001b[33m'\u001b[39m\u001b[33m.\u001b[39m\u001b[33m'\u001b[39m)\n\u001b[32m      9\u001b[39m \u001b[38;5;28mprint\u001b[39m(\u001b[33m\"\u001b[39m\u001b[33mItems in the current directory:\u001b[39m\u001b[33m\"\u001b[39m, items)\n",
      "\u001b[36mFile \u001b[39m\u001b[32m<frozen os>:225\u001b[39m, in \u001b[36mmakedirs\u001b[39m\u001b[34m(name, mode, exist_ok)\u001b[39m\n",
      "\u001b[31mFileExistsError\u001b[39m: [Errno 17] File exists: 'new_folder'"
     ]
    }
   ],
   "source": [
    "new_directory = 'new_folder'\n",
    "\n",
    "\n",
    "import os\n",
    "os.makedirs(new_directory)\n",
    "\n",
    "\n"
   ]
  },
  {
   "cell_type": "code",
   "execution_count": 19,
   "id": "bdb6c014",
   "metadata": {},
   "outputs": [
    {
     "name": "stdout",
     "output_type": "stream",
     "text": [
      "Items in the current directory: ['filter.ipynb', 'destination.txt', 'file_operations.ipynb', 'example.txt', 'example.bin', 'map.ipynb', 'dictonary.ipynb', 'tuples.ipynb', 'lambda.ipynb', 'new_folder', 'sets.ipynb']\n"
     ]
    }
   ],
   "source": [
    "items = os.listdir('.')\n",
    "print(\"Items in the current directory:\", items)\n"
   ]
  },
  {
   "cell_type": "code",
   "execution_count": 20,
   "id": "a7313bc5",
   "metadata": {},
   "outputs": [
    {
     "name": "stdout",
     "output_type": "stream",
     "text": [
      "Full path to the file: new_folder/example.txt\n"
     ]
    }
   ],
   "source": [
    "dir_name = 'new_folder'\n",
    "file_name = 'example.txt'\n",
    "\n",
    "full_path = os.path.join(dir_name, file_name)\n",
    "\n",
    "print(\"Full path to the file:\", full_path)"
   ]
  },
  {
   "cell_type": "code",
   "execution_count": 21,
   "id": "1d5b130f",
   "metadata": {},
   "outputs": [
    {
     "name": "stdout",
     "output_type": "stream",
     "text": [
      "The file new_folder/example.txt does not exist.\n"
     ]
    }
   ],
   "source": [
    "if os.path.exists(full_path):\n",
    "    print(f\"The file {full_path} exists.\")\n",
    "else:\n",
    "    print(f\"The file {full_path} does not exist.\")\n",
    "\n"
   ]
  },
  {
   "cell_type": "code",
   "execution_count": 23,
   "id": "4406662f",
   "metadata": {},
   "outputs": [
    {
     "data": {
      "text/plain": [
       "False"
      ]
     },
     "execution_count": 23,
     "metadata": {},
     "output_type": "execute_result"
    }
   ],
   "source": [
    "os.path.isdir(full_path)"
   ]
  },
  {
   "cell_type": "code",
   "execution_count": null,
   "id": "40373b69",
   "metadata": {},
   "outputs": [
    {
     "name": "stdout",
     "output_type": "stream",
     "text": [
      "Relative path to the file: new_folder/example.txt\n"
     ]
    }
   ],
   "source": [
    "relative_path = os.path.relpath(full_path, start=os.getcwd())\n",
    "print(\"Relative path to the file:\", relative_path)"
   ]
  },
  {
   "cell_type": "code",
   "execution_count": null,
   "id": "ab06065c",
   "metadata": {},
   "outputs": [],
   "source": []
  },
  {
   "cell_type": "code",
   "execution_count": null,
   "id": "bdbc7382",
   "metadata": {},
   "outputs": [],
   "source": []
  },
  {
   "cell_type": "code",
   "execution_count": null,
   "id": "ee2530bd",
   "metadata": {},
   "outputs": [],
   "source": []
  },
  {
   "cell_type": "code",
   "execution_count": null,
   "id": "7003c8b8",
   "metadata": {},
   "outputs": [],
   "source": []
  },
  {
   "cell_type": "code",
   "execution_count": null,
   "id": "53c97d6e",
   "metadata": {},
   "outputs": [],
   "source": []
  }
 ],
 "metadata": {
  "kernelspec": {
   "display_name": ".venv",
   "language": "python",
   "name": "python3"
  },
  "language_info": {
   "codemirror_mode": {
    "name": "ipython",
    "version": 3
   },
   "file_extension": ".py",
   "mimetype": "text/x-python",
   "name": "python",
   "nbconvert_exporter": "python",
   "pygments_lexer": "ipython3",
   "version": "3.12.10"
  }
 },
 "nbformat": 4,
 "nbformat_minor": 5
}
