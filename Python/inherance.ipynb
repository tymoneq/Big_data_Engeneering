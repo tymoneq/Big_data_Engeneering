{
 "cells": [
  {
   "cell_type": "code",
   "execution_count": 1,
   "id": "68b08a79",
   "metadata": {},
   "outputs": [],
   "source": [
    "class Car():\n",
    "    def __init__(self, make, model, year):\n",
    "        self.make = make\n",
    "        self.model = model\n",
    "        self.year = year\n",
    "\n",
    "    def get_description(self):\n",
    "        return f\"{self.year} {self.make} {self.model}\"\n",
    "    def start_engine(self):\n",
    "        return f\"The engine of the {self.get_description()} is now running.\"\n",
    "    def stop_engine(self):\n",
    "        return f\"The engine of the {self.get_description()} has been turned off.\"\n",
    "    def honk_horn(self):\n",
    "        return f\"The {self.get_description()} is honking its horn!\"\n",
    "    def accelerate(self):\n",
    "        return f\"The {self.get_description()} is accelerating.\"\n",
    "    def brake(self):\n",
    "        return f\"The {self.get_description()} is slowing down.\"\n",
    "    \n",
    "\n",
    "\n"
   ]
  },
  {
   "cell_type": "code",
   "execution_count": null,
   "id": "1869e500",
   "metadata": {},
   "outputs": [],
   "source": [
    "car1 = Car(\"Toyota\", \"Corolla\", 2020)\n",
    "\n"
   ]
  },
  {
   "cell_type": "code",
   "execution_count": 2,
   "id": "a07ac3a2",
   "metadata": {},
   "outputs": [],
   "source": [
    "class ElectricCar(Car):\n",
    "    def __init__(self, make, model, year, battery_size=75):\n",
    "        super().__init__(make, model, year)\n",
    "        self.battery_size = battery_size\n",
    "\n",
    "    def get_description(self):\n",
    "        return f\"{self.year} {self.make} {self.model} with a {self.battery_size}-kWh battery\"\n",
    "\n",
    "    def charge_battery(self):\n",
    "        return f\"The battery of the {self.get_description()} is now charging.\"\n",
    "    \n",
    "    def start_engine(self):\n",
    "        return f\"The electric motor of the {self.get_description()} is now running silently.\"\n",
    "    def stop_engine(self):\n",
    "        return f\"The electric motor of the {self.get_description()} has been turned off.\"\n",
    "    \n",
    "\n",
    "car2 = ElectricCar(\"Tesla\", \"Model 3\", 2021, 75)\n",
    "\n"
   ]
  },
  {
   "cell_type": "code",
   "execution_count": 6,
   "id": "a84372c6",
   "metadata": {},
   "outputs": [],
   "source": [
    "class Animal():\n",
    "    def __init__(self, species, name):\n",
    "        self.species = species\n",
    "        self.name = name\n",
    "\n",
    "    def make_sound(self):\n",
    "        return f\"{self.name} the {self.species} makes a sound.\"\n",
    "\n",
    "    def eat(self):\n",
    "        return f\"{self.name} the {self.species} is eating.\"\n",
    "\n",
    "    def sleep(self):\n",
    "        return f\"{self.name} the {self.species} is sleeping.\"\n",
    "    \n",
    "    \n",
    "class Pet():\n",
    "    def __init__(self, owner):\n",
    "        self.owner = owner\n",
    "\n",
    "    def get_owner(self):\n",
    "        return f\"{self.owner} is the owner of this pet.\"\n",
    "    \n",
    "    \n",
    "class Dog(Animal, Pet):\n",
    "    def __init__(self, name, owner):\n",
    "        Animal.__init__(self, \"Dog\", name)\n",
    "        Pet.__init__(self, owner)\n",
    "\n",
    "    def bark(self):\n",
    "        return f\"{self.name} the Dog barks!\"\n",
    "\n",
    "    def fetch(self):\n",
    "        return f\"{self.name} the Dog is fetching the ball!\"\n",
    "    \n",
    "    def make_sound(self):\n",
    "        return f\"{self.name} the Dog barks loudly.\"\n",
    "\n",
    "        \n",
    "    \n"
   ]
  },
  {
   "cell_type": "code",
   "execution_count": null,
   "id": "aadde6cd",
   "metadata": {},
   "outputs": [],
   "source": []
  }
 ],
 "metadata": {
  "kernelspec": {
   "display_name": ".venv",
   "language": "python",
   "name": "python3"
  },
  "language_info": {
   "codemirror_mode": {
    "name": "ipython",
    "version": 3
   },
   "file_extension": ".py",
   "mimetype": "text/x-python",
   "name": "python",
   "nbconvert_exporter": "python",
   "pygments_lexer": "ipython3",
   "version": "3.12.10"
  }
 },
 "nbformat": 4,
 "nbformat_minor": 5
}
