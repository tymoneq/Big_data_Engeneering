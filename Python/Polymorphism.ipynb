{
 "cells": [
  {
   "cell_type": "code",
   "execution_count": 1,
   "id": "3b16cde8",
   "metadata": {},
   "outputs": [
    {
     "name": "stdout",
     "output_type": "stream",
     "text": [
      "Buddy the Golden Retriever barks.\n"
     ]
    }
   ],
   "source": [
    "class Animal():\n",
    "    def __init__(self, species, name):\n",
    "        self.species = species\n",
    "        self.name = name\n",
    "\n",
    "    def make_sound(self):\n",
    "        return f\"{self.name} the {self.species} makes a sound.\"\n",
    "\n",
    "    def eat(self):\n",
    "        return f\"{self.name} the {self.species} is eating.\"\n",
    "\n",
    "    def sleep(self):\n",
    "        return f\"{self.name} the {self.species} is sleeping.\"\n",
    "    \n",
    "    \n",
    "class Dog(Animal):\n",
    "    def __init__(self, name, breed):\n",
    "        super().__init__(\"Dog\", name)\n",
    "        self.breed = breed\n",
    "\n",
    "    def make_sound(self):\n",
    "        return f\"{self.name} the {self.breed} barks.\"\n",
    "\n",
    "    def fetch(self, item):\n",
    "        return f\"{self.name} the {self.breed} is fetching the {item}.\"\n",
    "    \n",
    "    def wag_tail(self):\n",
    "        return f\"{self.name} the {self.breed} is wagging its tail.\"\n",
    "    \n",
    "    \n",
    "\n",
    "\n",
    "\n",
    "dog = Dog(\"Buddy\", \"Golden Retriever\")\n",
    "\n",
    "print(dog.make_sound())  # Buddy the Golden Retriever barks."
   ]
  },
  {
   "cell_type": "code",
   "execution_count": null,
   "id": "69dae8a8",
   "metadata": {},
   "outputs": [],
   "source": [
    "from abc import ABC, abstractmethod\n",
    "\n",
    "class Vechicle(ABC):\n",
    "    @abstractmethod\n",
    "    def start_engine(self):\n",
    "        pass\n",
    "\n",
    "    @abstractmethod\n",
    "    def stop_engine(self):\n",
    "        pass\n",
    "\n",
    "    @abstractmethod\n",
    "    def drive(self):\n",
    "        pass\n",
    "    \n",
    "    \n",
    "car = Vechicle()\n",
    "\n",
    "\n",
    "\n"
   ]
  },
  {
   "cell_type": "code",
   "execution_count": null,
   "id": "7e029529",
   "metadata": {},
   "outputs": [],
   "source": [
    "class Person():\n",
    "    def __init__(self, name, age):\n",
    "        self.__name = name # Encapsulation: private attribute\n",
    "        self._age = age # Encapsulation: protected attribute\n",
    "\n",
    "    def __greet(self):\n",
    "        return f\"Hello, my name is {self.__name} and I am {self._age} years old.\"\n",
    "\n",
    "    def celebrate_birthday(self):\n",
    "        self._age += 1\n",
    "        return f\"{self.__name} is now {self._age} years old.\"\n",
    "\n"
   ]
  },
  {
   "cell_type": "code",
   "execution_count": 11,
   "id": "016a23dc",
   "metadata": {},
   "outputs": [
    {
     "data": {
      "text/plain": [
       "['_Person__greet',\n",
       " '__class__',\n",
       " '__delattr__',\n",
       " '__dict__',\n",
       " '__dir__',\n",
       " '__doc__',\n",
       " '__eq__',\n",
       " '__format__',\n",
       " '__ge__',\n",
       " '__getattribute__',\n",
       " '__getstate__',\n",
       " '__gt__',\n",
       " '__hash__',\n",
       " '__init__',\n",
       " '__init_subclass__',\n",
       " '__le__',\n",
       " '__lt__',\n",
       " '__module__',\n",
       " '__ne__',\n",
       " '__new__',\n",
       " '__reduce__',\n",
       " '__reduce_ex__',\n",
       " '__repr__',\n",
       " '__setattr__',\n",
       " '__sizeof__',\n",
       " '__str__',\n",
       " '__subclasshook__',\n",
       " '__weakref__',\n",
       " 'celebrate_birthday']"
      ]
     },
     "execution_count": 11,
     "metadata": {},
     "output_type": "execute_result"
    }
   ],
   "source": [
    "dir(Person)"
   ]
  },
  {
   "cell_type": "code",
   "execution_count": null,
   "id": "799c5eaa",
   "metadata": {},
   "outputs": [],
   "source": []
  }
 ],
 "metadata": {
  "kernelspec": {
   "display_name": ".venv",
   "language": "python",
   "name": "python3"
  },
  "language_info": {
   "codemirror_mode": {
    "name": "ipython",
    "version": 3
   },
   "file_extension": ".py",
   "mimetype": "text/x-python",
   "name": "python",
   "nbconvert_exporter": "python",
   "pygments_lexer": "ipython3",
   "version": "3.12.10"
  }
 },
 "nbformat": 4,
 "nbformat_minor": 5
}
