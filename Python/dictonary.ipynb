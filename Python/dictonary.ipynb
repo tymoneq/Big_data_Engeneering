{
 "cells": [
  {
   "cell_type": "code",
   "execution_count": 1,
   "id": "bd00626b",
   "metadata": {},
   "outputs": [
    {
     "name": "stdout",
     "output_type": "stream",
     "text": [
      "<class 'dict'>\n"
     ]
    }
   ],
   "source": [
    "empty_dict = {}\n",
    "print(type(empty_dict))\n"
   ]
  },
  {
   "cell_type": "code",
   "execution_count": 3,
   "id": "c16717b4",
   "metadata": {},
   "outputs": [
    {
     "name": "stdout",
     "output_type": "stream",
     "text": [
      "{'name': 'John', 'age': 20, 'grade': 'A'}\n"
     ]
    }
   ],
   "source": [
    "students = { \"name\" : \"John\", \"age\": 20, \"grade\": \"A\" }\n",
    "print(students)"
   ]
  },
  {
   "cell_type": "code",
   "execution_count": 4,
   "id": "5e61570c",
   "metadata": {},
   "outputs": [
    {
     "name": "stdout",
     "output_type": "stream",
     "text": [
      "{'name': 'Jane', 'age': 20, 'grade': 'A'}\n"
     ]
    }
   ],
   "source": [
    "students[\"name\"] = \"Jane\"\n",
    "print(students)"
   ]
  },
  {
   "cell_type": "code",
   "execution_count": 5,
   "id": "bef0715c",
   "metadata": {},
   "outputs": [
    {
     "data": {
      "text/plain": [
       "'Jane'"
      ]
     },
     "execution_count": 5,
     "metadata": {},
     "output_type": "execute_result"
    }
   ],
   "source": [
    "students.get(\"name\")"
   ]
  },
  {
   "cell_type": "code",
   "execution_count": 7,
   "id": "33b45d28",
   "metadata": {},
   "outputs": [
    {
     "name": "stdout",
     "output_type": "stream",
     "text": [
      "None\n"
     ]
    }
   ],
   "source": [
    "print(students.get(\"last_name\"))"
   ]
  },
  {
   "cell_type": "code",
   "execution_count": 10,
   "id": "bef3939b",
   "metadata": {},
   "outputs": [
    {
     "name": "stdout",
     "output_type": "stream",
     "text": [
      "{'name': 'Jane', 'age': 20, 'grade': 'A', 'Adress': 'Poland', 'Address': 'Poland'}\n"
     ]
    }
   ],
   "source": [
    "students['Address'] = \"Poland\"\n",
    "print(students)"
   ]
  },
  {
   "cell_type": "code",
   "execution_count": 11,
   "id": "aa54b9ee",
   "metadata": {},
   "outputs": [],
   "source": [
    "del students['Adress']"
   ]
  },
  {
   "cell_type": "code",
   "execution_count": 12,
   "id": "780a68fc",
   "metadata": {},
   "outputs": [
    {
     "name": "stdout",
     "output_type": "stream",
     "text": [
      "{'name': 'Jane', 'age': 20, 'grade': 'A', 'Address': 'Poland'}\n"
     ]
    }
   ],
   "source": [
    "print(students)"
   ]
  },
  {
   "cell_type": "code",
   "execution_count": 13,
   "id": "b1ef91f8",
   "metadata": {},
   "outputs": [
    {
     "name": "stdout",
     "output_type": "stream",
     "text": [
      "dict_keys(['name', 'age', 'grade', 'Address'])\n"
     ]
    }
   ],
   "source": [
    "keys = students.keys()\n",
    "print(keys)"
   ]
  },
  {
   "cell_type": "code",
   "execution_count": 14,
   "id": "f2d45c03",
   "metadata": {},
   "outputs": [
    {
     "name": "stdout",
     "output_type": "stream",
     "text": [
      "dict_values(['Jane', 20, 'A', 'Poland'])\n",
      "dict_items([('name', 'Jane'), ('age', 20), ('grade', 'A'), ('Address', 'Poland')])\n"
     ]
    }
   ],
   "source": [
    "values = students.values()\n",
    "print(values)\n",
    "items = students.items()\n",
    "print(items)"
   ]
  },
  {
   "cell_type": "code",
   "execution_count": 15,
   "id": "5e467121",
   "metadata": {},
   "outputs": [
    {
     "name": "stdout",
     "output_type": "stream",
     "text": [
      "{'name': 'Jane', 'age': 20, 'grade': 'A', 'Address': 'Poland'}\n",
      "{'name': 'Alice', 'age': 20, 'grade': 'A', 'Address': 'Poland'}\n"
     ]
    }
   ],
   "source": [
    "students_copy = students.copy()\n",
    "print(students_copy)\n",
    "students_copy['name'] = \"Alice\"\n",
    "print(students_copy)"
   ]
  },
  {
   "cell_type": "code",
   "execution_count": 17,
   "id": "147d70f9",
   "metadata": {},
   "outputs": [
    {
     "name": "stdout",
     "output_type": "stream",
     "text": [
      "name\n",
      "age\n",
      "grade\n",
      "Address\n",
      "Jane\n",
      "20\n",
      "A\n",
      "Poland\n",
      "name: Jane\n",
      "age: 20\n",
      "grade: A\n",
      "Address: Poland\n"
     ]
    }
   ],
   "source": [
    "for key in students.keys():\n",
    "    print(key)\n",
    "    \n",
    "for value in students.values():\n",
    "    print(value)\n",
    "for key, value in students.items():\n",
    "    print(f\"{key}: {value}\")\n"
   ]
  },
  {
   "cell_type": "code",
   "execution_count": 18,
   "id": "39ca8f65",
   "metadata": {},
   "outputs": [
    {
     "name": "stdout",
     "output_type": "stream",
     "text": [
      "{1: 1, 2: 4, 3: 3, 4: 4, 5: 4}\n"
     ]
    }
   ],
   "source": [
    "numbers = [1,2,2,2,2,3,3,3,4,4,4,4,5,5,5,5]\n",
    "\n",
    "frequency = {}\n",
    "for number in numbers:\n",
    "    if number in frequency:\n",
    "        frequency[number] += 1\n",
    "    else:\n",
    "        frequency[number] = 1\n",
    "\n",
    "print(frequency)"
   ]
  }
 ],
 "metadata": {
  "kernelspec": {
   "display_name": ".venv",
   "language": "python",
   "name": "python3"
  },
  "language_info": {
   "codemirror_mode": {
    "name": "ipython",
    "version": 3
   },
   "file_extension": ".py",
   "mimetype": "text/x-python",
   "name": "python",
   "nbconvert_exporter": "python",
   "pygments_lexer": "ipython3",
   "version": "3.12.10"
  }
 },
 "nbformat": 4,
 "nbformat_minor": 5
}
