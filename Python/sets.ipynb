{
 "cells": [
  {
   "cell_type": "code",
   "execution_count": 2,
   "id": "0e5d8dcf",
   "metadata": {},
   "outputs": [
    {
     "name": "stdout",
     "output_type": "stream",
     "text": [
      "{1, 2, 3, 4, 5}\n",
      "<class 'set'>\n"
     ]
    }
   ],
   "source": [
    "my_set = {1, 2, 3,4,5}\n",
    "print(my_set)\n",
    "print(type(my_set))"
   ]
  },
  {
   "cell_type": "code",
   "execution_count": 3,
   "id": "65b1c7ba",
   "metadata": {},
   "outputs": [
    {
     "name": "stdout",
     "output_type": "stream",
     "text": [
      "{1, 2, 3, 4, 5, 6}\n",
      "{2, 3, 4, 5, 6}\n"
     ]
    }
   ],
   "source": [
    "my_empty_set = set()\n",
    "\n",
    "my_set.add(6)\n",
    "print(my_set)\n",
    "my_set.remove(1)\n",
    "print(my_set)"
   ]
  },
  {
   "cell_type": "code",
   "execution_count": 10,
   "id": "05cc3593",
   "metadata": {},
   "outputs": [],
   "source": [
    "my_set.discard(1)"
   ]
  },
  {
   "cell_type": "code",
   "execution_count": 12,
   "id": "3ff8e2d6",
   "metadata": {},
   "outputs": [
    {
     "name": "stdout",
     "output_type": "stream",
     "text": [
      "True\n",
      "False\n"
     ]
    }
   ],
   "source": [
    "my_set = {1, 2, 3, 4, 5}\n",
    "\n",
    "print(2 in my_set)\n",
    "print(6 in my_set)"
   ]
  },
  {
   "cell_type": "code",
   "execution_count": 14,
   "id": "e551ce4a",
   "metadata": {},
   "outputs": [
    {
     "name": "stdout",
     "output_type": "stream",
     "text": [
      "{1, 2, 3, 4, 5, 6, 7, 8}\n",
      "{4, 5}\n",
      "{1, 2, 3}\n",
      "{1, 2, 3, 6, 7, 8}\n",
      "{1, 2, 3, 4, 5, 6, 7, 8}\n"
     ]
    }
   ],
   "source": [
    "set1 = {1, 2, 3,4,5}\n",
    "set2 = {4, 5, 6, 7, 8}\n",
    "print(set1.union(set2))  # Union\n",
    "print(set1.intersection(set2))  # Intersection\n",
    "print(set1.difference(set2))  # Difference\n",
    "print(set1.symmetric_difference(set2))  # Symmetric Difference\n",
    "set1.update(set2)  # Update set1 with elements from set2\n",
    "print(set1)  # Now set1 contains all elements from both sets"
   ]
  },
  {
   "cell_type": "code",
   "execution_count": 16,
   "id": "b4114de9",
   "metadata": {},
   "outputs": [
    {
     "data": {
      "text/plain": [
       "True"
      ]
     },
     "execution_count": 16,
     "metadata": {},
     "output_type": "execute_result"
    }
   ],
   "source": [
    "set1.issuperset(set2)  # Check if set1 is a superset of set2\n"
   ]
  },
  {
   "cell_type": "code",
   "execution_count": 17,
   "id": "6575769b",
   "metadata": {},
   "outputs": [
    {
     "name": "stdout",
     "output_type": "stream",
     "text": [
      "{1, 2, 3, 4, 5, 6, 7, 8, 9, 10}\n"
     ]
    }
   ],
   "source": [
    "lst =[ 1, 2, 3, 4, 5, 6, 7, 8, 9, 10,2,2,2,3,3,3,4,4,4,5,5,5]\n",
    "my_set = set(lst)  # Convert list to set to remove duplicates\n",
    "print(my_set)  # Print the set with unique elements"
   ]
  },
  {
   "cell_type": "code",
   "execution_count": 19,
   "id": "f913c9ea",
   "metadata": {},
   "outputs": [
    {
     "name": "stdout",
     "output_type": "stream",
     "text": [
      "{'sets', 'are', 'tutorial,', 'this', 'In', 'in', 'unordered', 'we', 'learn', 'of', 'will', 'elements.', 'Python.', 'collections', 'about', 'Sets', 'unique'}\n",
      "17\n"
     ]
    }
   ],
   "source": [
    "text = \"In this tutorial, we will learn about sets in Python. Sets are unordered collections of unique elements.\"\n",
    "words = text.split()  # Split the text into words\n",
    "word_set = set(words)  # Convert the list of words to a set\n",
    "print(word_set)  # Print the set of unique words\n",
    "print(len(word_set))  # Print the number of unique words"
   ]
  },
  {
   "cell_type": "code",
   "execution_count": null,
   "id": "54f8c4cb",
   "metadata": {},
   "outputs": [],
   "source": []
  }
 ],
 "metadata": {
  "kernelspec": {
   "display_name": ".venv",
   "language": "python",
   "name": "python3"
  },
  "language_info": {
   "codemirror_mode": {
    "name": "ipython",
    "version": 3
   },
   "file_extension": ".py",
   "mimetype": "text/x-python",
   "name": "python",
   "nbconvert_exporter": "python",
   "pygments_lexer": "ipython3",
   "version": "3.12.10"
  }
 },
 "nbformat": 4,
 "nbformat_minor": 5
}
