{
 "cells": [
  {
   "cell_type": "code",
   "execution_count": 1,
   "id": "306a6827",
   "metadata": {},
   "outputs": [],
   "source": [
    "import sqlite3 "
   ]
  },
  {
   "cell_type": "code",
   "execution_count": 2,
   "id": "1029b8ad",
   "metadata": {},
   "outputs": [],
   "source": [
    "connection = sqlite3.connect('example.db')"
   ]
  },
  {
   "cell_type": "code",
   "execution_count": 3,
   "id": "4827f3b2",
   "metadata": {},
   "outputs": [
    {
     "data": {
      "text/plain": [
       "<sqlite3.Cursor at 0x77f6bf62a440>"
      ]
     },
     "execution_count": 3,
     "metadata": {},
     "output_type": "execute_result"
    }
   ],
   "source": [
    "cursor = connection.cursor()\n",
    "\n",
    "# Create a table\n",
    "cursor.execute('''\n",
    "CREATE TABLE IF NOT EXISTS users (\n",
    "    id INTEGER PRIMARY KEY,\n",
    "    name TEXT NOT NULL,\n",
    "    age INTEGER NOT NULL,\n",
    "    department TEXT\n",
    ")\n",
    "''')\n"
   ]
  },
  {
   "cell_type": "code",
   "execution_count": 4,
   "id": "bcc99b48",
   "metadata": {},
   "outputs": [],
   "source": [
    "connection.commit()"
   ]
  },
  {
   "cell_type": "code",
   "execution_count": 5,
   "id": "6bc1c93b",
   "metadata": {},
   "outputs": [
    {
     "data": {
      "text/plain": [
       "<sqlite3.Cursor at 0x77f6bf62a440>"
      ]
     },
     "execution_count": 5,
     "metadata": {},
     "output_type": "execute_result"
    }
   ],
   "source": [
    "cursor.execute('''\n",
    "               SeLECT * FROM users\n",
    "               ''') \n"
   ]
  },
  {
   "cell_type": "code",
   "execution_count": 6,
   "id": "3a1d6e00",
   "metadata": {},
   "outputs": [
    {
     "data": {
      "text/plain": [
       "<sqlite3.Cursor at 0x77f6bf62a440>"
      ]
     },
     "execution_count": 6,
     "metadata": {},
     "output_type": "execute_result"
    }
   ],
   "source": [
    "cursor.execute('''\n",
    "INSERT INTO users (name, age, department) VALUES\n",
    "('Alice', 30, 'HR'),\n",
    "('Bob', 25, 'Engineering'),\n",
    "('Charlie', 35, 'Marketing')\n",
    "''')   \n"
   ]
  },
  {
   "cell_type": "code",
   "execution_count": 7,
   "id": "bd2a75a4",
   "metadata": {},
   "outputs": [],
   "source": [
    "connection.commit()"
   ]
  },
  {
   "cell_type": "code",
   "execution_count": 8,
   "id": "6ea438a5",
   "metadata": {},
   "outputs": [
    {
     "name": "stdout",
     "output_type": "stream",
     "text": [
      "(1, 'Alice', 30, 'HR')\n",
      "(2, 'Bob', 25, 'Engineering')\n",
      "(3, 'Charlie', 35, 'Marketing')\n"
     ]
    }
   ],
   "source": [
    "cursor.execute('''\n",
    "SELECT * FROM users\n",
    "''')\n",
    "rows = cursor.fetchall()\n",
    "for row in rows:\n",
    "    print(row) \n",
    "    "
   ]
  },
  {
   "cell_type": "code",
   "execution_count": 9,
   "id": "ef08bdeb",
   "metadata": {},
   "outputs": [],
   "source": [
    "cursor.execute('''\n",
    "UPDATE users\n",
    "SET age = 31\n",
    "WHERE name = 'Alice'\n",
    "''')\n",
    "connection.commit()\n"
   ]
  },
  {
   "cell_type": "code",
   "execution_count": null,
   "id": "b1650ebe",
   "metadata": {},
   "outputs": [
    {
     "name": "stdout",
     "output_type": "stream",
     "text": [
      "(1, 'Alice', 31, 'HR')\n",
      "(2, 'Bob', 25, 'Engineering')\n",
      "(3, 'Charlie', 35, 'Marketing')\n"
     ]
    }
   ],
   "source": [
    "cursor.execute(\n",
    "    \"\"\"\n",
    "SELECT * FROM users\n",
    "\"\"\"\n",
    ")\n",
    "rows = cursor.fetchall()\n",
    "for row in rows:\n",
    "    print(row)"
   ]
  },
  {
   "cell_type": "code",
   "execution_count": 12,
   "id": "988ffc23",
   "metadata": {},
   "outputs": [],
   "source": [
    "cursor.execute(\n",
    "    \"\"\"\n",
    "               DELETE FROM users\n",
    "               WHERE name = 'Bob'\n",
    "\"\"\"\n",
    ")\n",
    "\n",
    "connection.commit()"
   ]
  },
  {
   "cell_type": "code",
   "execution_count": null,
   "id": "c2c1ac91",
   "metadata": {},
   "outputs": [
    {
     "name": "stdout",
     "output_type": "stream",
     "text": [
      "(1, 'Alice', 31, 'HR')\n",
      "(3, 'Charlie', 35, 'Marketing')\n"
     ]
    }
   ],
   "source": [
    "cursor.execute(\n",
    "    \"\"\"\n",
    "               SELECT * FROM users\n",
    "               \"\"\"\n",
    ")\n",
    "rows = cursor.fetchall()\n",
    "for row in rows:\n",
    "    print(row)"
   ]
  },
  {
   "cell_type": "code",
   "execution_count": 14,
   "id": "42a96eda",
   "metadata": {},
   "outputs": [],
   "source": [
    "connection.close()"
   ]
  }
 ],
 "metadata": {
  "kernelspec": {
   "display_name": ".venv",
   "language": "python",
   "name": "python3"
  },
  "language_info": {
   "codemirror_mode": {
    "name": "ipython",
    "version": 3
   },
   "file_extension": ".py",
   "mimetype": "text/x-python",
   "name": "python",
   "nbconvert_exporter": "python",
   "pygments_lexer": "ipython3",
   "version": "3.12.10"
  }
 },
 "nbformat": 4,
 "nbformat_minor": 5
}
